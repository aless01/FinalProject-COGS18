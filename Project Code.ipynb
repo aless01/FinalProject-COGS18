{
 "cells": [
  {
   "cell_type": "markdown",
   "metadata": {},
   "source": [
    "# COGS18 Final Project: ChatBot\n",
    "## Alessandra Torres-Rojas\n",
    "My code ChatBot asks you a variety of questions to which you will type in the input specified in the docstrings (text in red) at the top of each function and press Enter. After you type in this input you will receive a different output for each question asked. This code is extremely simple and easy to use. I hope you find the process of using this code to be simple. Thank you to Professor Ellis and all the TA's for all their hardwork and for helping me on my final project as well as previous assignments. This has been a true learning experience."
   ]
  },
  {
   "cell_type": "code",
   "execution_count": 1,
   "metadata": {},
   "outputs": [],
   "source": [
    "'''Asks for your name, you will type in Aless as the name required, if you input anything else it will return Try Again'''\n",
    "def question():\n",
    "    stop = False\n",
    "    print(\"\\nFirst question:\")\n",
    "    while stop == False:\n",
    "        inputStr = input(\"whats your name?\")\n",
    "        if(inputStr == \"Aless\"):\n",
    "            print(\"Hi Aless!\")\n",
    "            stop = True\n",
    "        else:\n",
    "            print(\"\\nTry again\")\n",
    "    print(inputStr)"
   ]
  },
  {
   "cell_type": "code",
   "execution_count": null,
   "metadata": {},
   "outputs": [
    {
     "name": "stdout",
     "output_type": "stream",
     "text": [
      "\n",
      "First question:\n"
     ]
    }
   ],
   "source": [
    "question()"
   ]
  },
  {
   "cell_type": "code",
   "execution_count": null,
   "metadata": {},
   "outputs": [],
   "source": [
    "'''Asks you how you're doing, you will type in Good as the input, if you input anything else it will return Try Again'''\n",
    "def newquestion():\n",
    "    stop = False\n",
    "    print(\"\\nSecond question:\")\n",
    "    while stop == False:\n",
    "        inputStr = input(\"How are you doing today?\")\n",
    "        if(inputStr == \"Good\"):\n",
    "            print(\"I'm glad to hear that!\")\n",
    "            stop = True\n",
    "        else:\n",
    "            print(\"\\nTry again\")\n",
    "    print(inputStr)"
   ]
  },
  {
   "cell_type": "code",
   "execution_count": null,
   "metadata": {},
   "outputs": [],
   "source": [
    "newquestion()"
   ]
  },
  {
   "cell_type": "code",
   "execution_count": null,
   "metadata": {},
   "outputs": [],
   "source": [
    "'''Asks if you have finished your final project yet, you will type in No as the input, if you input anything else it will return Try Again'''\n",
    "def project():\n",
    "    stop = False\n",
    "    print(\"\\nThird question:\")\n",
    "    while stop == False:\n",
    "        inputStr = input(\"Have you finished your COGS 18 final project?\")\n",
    "        if(inputStr == \"No\"):\n",
    "            print(\"Get to work on it!\")\n",
    "            stop = True\n",
    "        else:\n",
    "            print(\"\\nTry again.\")\n",
    "    print(inputStr)"
   ]
  },
  {
   "cell_type": "code",
   "execution_count": null,
   "metadata": {},
   "outputs": [],
   "source": [
    "project()"
   ]
  },
  {
   "cell_type": "code",
   "execution_count": null,
   "metadata": {},
   "outputs": [],
   "source": [
    "'''Asks if you've been practicing self care, you will type in No as the input, if you input anything else it will return Try Again'''\n",
    "def selfcare():\n",
    "    stop = False\n",
    "    print(\"\\nFourth question:\")\n",
    "    while stop == False:\n",
    "        inputStr = input(\"Have you been practicing self-care?\")\n",
    "        if(inputStr == \"No\"):\n",
    "            print(\"Oh no, remember to drink water, sleep, and eat!\")\n",
    "            stop = True\n",
    "        else:\n",
    "            print(\"\\nTry again.\")\n",
    "    print(inputStr)"
   ]
  },
  {
   "cell_type": "code",
   "execution_count": null,
   "metadata": {},
   "outputs": [],
   "source": [
    "selfcare()"
   ]
  },
  {
   "cell_type": "code",
   "execution_count": null,
   "metadata": {},
   "outputs": [],
   "source": [
    "'''Asks if you like this class, you will type in No as the input, if you input anything else it will return Try Again'''\n",
    "def feedback():\n",
    "    stop = False\n",
    "    print(\"\\nFifth question:\")\n",
    "    while stop == False:\n",
    "        inputStr = input(\"Did you like this class?\")\n",
    "        if(inputStr == \"No\"):\n",
    "            print(\"I'm sorry to hear that.\")\n",
    "            stop = True\n",
    "        else:\n",
    "            print(\"\\nTry again\")\n",
    "    print(inputStr)"
   ]
  },
  {
   "cell_type": "code",
   "execution_count": null,
   "metadata": {},
   "outputs": [],
   "source": [
    "feedback()"
   ]
  },
  {
   "cell_type": "code",
   "execution_count": null,
   "metadata": {},
   "outputs": [],
   "source": [
    "'''Asks how this class can improve, you will type in Provide more help! as the input, if you input anything else it will return Try Again'''\n",
    "def improvement():\n",
    "    stop = False\n",
    "    print(\"\\nSixth question:\")\n",
    "    while stop == False:\n",
    "        inputStr = input(\"How can this class improve?\")\n",
    "        if(inputStr == \"Provide more help!\"):\n",
    "            print(\"Thank you for your feedback.\")\n",
    "            stop = True\n",
    "        else:\n",
    "            print(\"\\nTry again\")\n",
    "    print(inputStr)"
   ]
  },
  {
   "cell_type": "code",
   "execution_count": null,
   "metadata": {},
   "outputs": [],
   "source": [
    "improvement()"
   ]
  },
  {
   "cell_type": "code",
   "execution_count": null,
   "metadata": {},
   "outputs": [],
   "source": [
    "'''Asks if you'll be taking another COGS class, you will type in No as the input, if you input anything else it will return Try Again'''\n",
    "def again():\n",
    "    stop = False\n",
    "    print(\"\\nSeventh question:\")\n",
    "    while stop == False:\n",
    "        inputStr = input(\"Will you be taking another COGS class?\")\n",
    "        if(inputStr == \"I don't think so.\"):\n",
    "            print(\"Aw man! Have a great Winter break!\")\n",
    "            stop = True\n",
    "        else:\n",
    "            print(\"\\nTry again\")\n",
    "    print(inputStr)"
   ]
  },
  {
   "cell_type": "code",
   "execution_count": null,
   "metadata": {},
   "outputs": [],
   "source": [
    "again()"
   ]
  },
  {
   "cell_type": "code",
   "execution_count": null,
   "metadata": {},
   "outputs": [],
   "source": []
  }
 ],
 "metadata": {
  "kernelspec": {
   "display_name": "Python 3",
   "language": "python",
   "name": "python3"
  },
  "language_info": {
   "codemirror_mode": {
    "name": "ipython",
    "version": 3
   },
   "file_extension": ".py",
   "mimetype": "text/x-python",
   "name": "python",
   "nbconvert_exporter": "python",
   "pygments_lexer": "ipython3",
   "version": "3.6.7"
  }
 },
 "nbformat": 4,
 "nbformat_minor": 2
}
